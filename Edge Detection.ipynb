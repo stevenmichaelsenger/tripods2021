{
 "cells": [
  {
   "cell_type": "code",
   "execution_count": 9,
   "id": "25e29892-486f-47b2-afcf-453b6b1be17e",
   "metadata": {},
   "outputs": [],
   "source": [
    "import numpy as np\n",
    "import matplotlib.pyplot as plt\n",
    "import os\n",
    "os.environ['KMP_DUPLICATE_LIB_OK']='True' # solve dead Kernel\n",
    "import tensorflow as tf"
   ]
  },
  {
   "cell_type": "markdown",
   "id": "92469a4f-f6fb-48bb-96ae-82e5d9f94f66",
   "metadata": {},
   "source": [
    "## Edge Detection (Sobel Filter) on Cifar10 Dataset"
   ]
  },
  {
   "cell_type": "code",
   "execution_count": 10,
   "id": "ae01fe77-8d02-4ccd-ac43-66862a416b74",
   "metadata": {},
   "outputs": [
    {
     "name": "stdout",
     "output_type": "stream",
     "text": [
      "Downloading data from https://www.cs.toronto.edu/~kriz/cifar-10-python.tar.gz\n",
      "170500096/170498071 [==============================] - 72s 0us/step\n"
     ]
    }
   ],
   "source": [
    "cifar = tf.keras.datasets.cifar10 # hand-written digits 0-9\n",
    "\n",
    "(x_train, y_train), (x_test, y_test) = cifar.load_data() \n",
    "\n",
    "# narrow down the training sample size\n",
    "x = np.concatenate((x_train, x_test))\n",
    "y = np.concatenate((y_train, y_test))\n",
    "np.random.seed(2021)\n",
    "train_size = 0.002\n",
    "index = np.random.rand(len(x)) < train_size\n",
    "x_train, x_test = x[index], x[~index]\n",
    "y_train, y_test = y[index], y[~index]"
   ]
  },
  {
   "cell_type": "code",
   "execution_count": 11,
   "id": "750a99f2-8661-4e0a-a1ab-4f74c24b2c0a",
   "metadata": {},
   "outputs": [
    {
     "data": {
      "text/plain": [
       "(32, 32, 3)"
      ]
     },
     "execution_count": 11,
     "metadata": {},
     "output_type": "execute_result"
    },
    {
     "data": {
      "image/png": "[encoded data removed]",
      "text/plain": [
       "<Figure size 432x288 with 1 Axes>"
      ]
     },
     "metadata": {
      "needs_background": "light"
     },
     "output_type": "display_data"
    }
   ],
   "source": [
    "plt.figure()\n",
    "plt.imshow(x_train[0])\n",
    "x_train[0].shape"
   ]
  },
  {
   "cell_type": "markdown",
   "id": "50639199-e82b-4d8c-80d4-03a9e4848237",
   "metadata": {},
   "source": [
    "## Define vertical and horizaontal Sobel Filters"
   ]
  },
  {
   "cell_type": "code",
   "execution_count": 12,
   "id": "35765108-fd34-4e6f-a145-e02f8257fdb4",
   "metadata": {},
   "outputs": [],
   "source": [
    "vertical_filter = [[-1,-2,-1],[0,0,0],[1,2,1]]\n",
    "horizontal_filter = [[-1,0,1],[-2,0,2],[-1,0,1]]\n",
    "n,m, d = x_train[0].shape"
   ]
  },
  {
   "cell_type": "markdown",
   "id": "910e839a-b4ad-4fa9-965b-fc6c1019c4ac",
   "metadata": {},
   "source": [
    "## Apply vertical filter"
   ]
  },
  {
   "cell_type": "code",
   "execution_count": 13,
   "id": "41739721-3a91-41a0-a729-7cf68cdff37f",
   "metadata": {},
   "outputs": [],
   "source": [
    "vertical_edges_img = np.zeros_like(x_train[0])"
   ]
  },
  {
   "cell_type": "code",
   "execution_count": 15,
   "id": "89fa4f01-45df-4517-9112-ce7f38c364ec",
   "metadata": {},
   "outputs": [],
   "source": [
    "for row in range(3,n-2):\n",
    "    for col in range(3,m-2):\n",
    "        local_pixels = x_train[0][row-1:row+2, col-1:col+2,0]\n",
    "        transformed_pixels = vertical_filter*local_pixels\n",
    "        vertical_score = (transformed_pixels.sum()+4)/8\n",
    "        vertical_edges_img[row,col] = [vertical_score]*3"
   ]
  },
  {
   "cell_type": "code",
   "execution_count": 16,
   "id": "3b9ea99c-b7a0-497d-8fb6-e1f62397133e",
   "metadata": {},
   "outputs": [
    {
     "data": {
      "text/plain": [
       "<matplotlib.image.AxesImage at 0x7fc308bd8e90>"
      ]
     },
     "execution_count": 16,
     "metadata": {},
     "output_type": "execute_result"
    },
    {
     "data": {
      "image/png": "[encoded data removed]",
      "text/plain": [
       "<Figure size 432x288 with 1 Axes>"
      ]
     },
     "metadata": {
      "needs_background": "light"
     },
     "output_type": "display_data"
    }
   ],
   "source": [
    "plt.imshow(vertical_edges_img)"
   ]
  },
  {
   "cell_type": "markdown",
   "id": "4cea6555-308e-4806-bb1d-86118c74b7bc",
   "metadata": {},
   "source": [
    "## Apply horizontal Filter"
   ]
  },
  {
   "cell_type": "code",
   "execution_count": 17,
   "id": "ef38bacf-bf10-48ad-b6ca-433e5dbb446e",
   "metadata": {},
   "outputs": [],
   "source": [
    "horizontal_edges_img = np.zeros_like(x_train[0])"
   ]
  },
  {
   "cell_type": "code",
   "execution_count": 18,
   "id": "94939dee-aae5-4e3f-aea6-02b83550d36b",
   "metadata": {},
   "outputs": [],
   "source": [
    "for row in range(3,n-2):\n",
    "    for col in range(3,m-2):\n",
    "        local_pixels = x_train[0][row-1:row+2, col-1:col+2,0]\n",
    "        transformed_pixels = horizontal_filter*local_pixels\n",
    "        horizontal_score = (transformed_pixels.sum()+4)/8\n",
    "        horizontal_edges_img[row,col] = [horizontal_score]*3"
   ]
  },
  {
   "cell_type": "code",
   "execution_count": 19,
   "id": "ef529efc-dd3b-4092-8ba0-57a67c36fad9",
   "metadata": {},
   "outputs": [
    {
     "data": {
      "text/plain": [
       "<matplotlib.image.AxesImage at 0x7fc2f8c05d10>"
      ]
     },
     "execution_count": 19,
     "metadata": {},
     "output_type": "execute_result"
    },
    {
     "data": {
      "image/png": "[encoded data removed]",
      "text/plain": [
       "<Figure size 432x288 with 1 Axes>"
      ]
     },
     "metadata": {
      "needs_background": "light"
     },
     "output_type": "display_data"
    }
   ],
   "source": [
    "plt.imshow(horizontal_edges_img)"
   ]
  },
  {
   "cell_type": "markdown",
   "id": "c021f9d9-9a84-475e-9e27-83a5c75f510f",
   "metadata": {},
   "source": [
    "## Apply Both"
   ]
  },
  {
   "cell_type": "code",
   "execution_count": 20,
   "id": "e20f5146-98af-46ad-b366-b32fcf045a1b",
   "metadata": {},
   "outputs": [],
   "source": [
    "edges_img = np.zeros_like(x_train[0])"
   ]
  },
  {
   "cell_type": "code",
   "execution_count": 22,
   "id": "fd18967c-7a81-48e0-84fb-17a0e8d7f743",
   "metadata": {},
   "outputs": [],
   "source": [
    "for row in range(3,n-2):\n",
    "        for col in range(3,m-2):\n",
    "            local_pixels = x_train[0][row-1:row+2, col-1:col+2,0]\n",
    "            vertical_transformed_pixels = vertical_filter*local_pixels\n",
    "            vertical_score = vertical_transformed_pixels.sum()/4\n",
    "            \n",
    "            horizontal_transformed_pixels = horizontal_filter*local_pixels\n",
    "            horizontal_score = horizontal_transformed_pixels.sum()/4\n",
    "            \n",
    "            edge_score = (vertical_score**2 + horizontal_score**2)**.5\n",
    "            edges_img[row, col] = [edge_score]*3\n",
    "edges_img = edges_img/edges_img.max()\n",
    "            "
   ]
  },
  {
   "cell_type": "code",
   "execution_count": 23,
   "id": "7eac6300-f07d-41d2-bfb8-3dd66145f3de",
   "metadata": {},
   "outputs": [
    {
     "data": {
      "text/plain": [
       "<matplotlib.image.AxesImage at 0x7fc2f8d2b790>"
      ]
     },
     "execution_count": 23,
     "metadata": {},
     "output_type": "execute_result"
    },
    {
     "data": {
      "image/png": "[encoded data removed]",
      "text/plain": [
       "<Figure size 432x288 with 1 Axes>"
      ]
     },
     "metadata": {
      "needs_background": "light"
     },
     "output_type": "display_data"
    }
   ],
   "source": [
    "plt.imshow(edges_img)"
   ]
  },
  {
   "cell_type": "code",
   "execution_count": null,
   "id": "ed977f38-2193-4ea8-9513-96bea91af33e",
   "metadata": {},
   "outputs": [],
   "source": []
  }
 ],
 "metadata": {
  "kernelspec": {
   "display_name": "Python 3",
   "language": "python",
   "name": "python3"
  },
  "language_info": {
   "codemirror_mode": {
    "name": "ipython",
    "version": 3
   },
   "file_extension": ".py",
   "mimetype": "text/x-python",
   "name": "python",
   "nbconvert_exporter": "python",
   "pygments_lexer": "ipython3",
   "version": "3.7.11"
  }
 },
 "nbformat": 4,
 "nbformat_minor": 5
}
