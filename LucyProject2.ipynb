{
 "cells": [
  {
   "cell_type": "code",
   "execution_count": 1,
   "id": "4e4eea8c",
   "metadata": {},
   "outputs": [],
   "source": [
    "import os\n",
    "os.environ['KMP_DUPLICATE_LIB_OK']='True' # solve dead Kernel\n",
    "\n",
    "import tensorflow as tf\n",
    "import numpy as np\n",
    "\n",
    "from matplotlib import pyplot"
   ]
  },
  {
   "cell_type": "markdown",
   "id": "654c622c",
   "metadata": {},
   "source": [
    "# Original Model (without noises)"
   ]
  },
  {
   "cell_type": "code",
   "execution_count": 2,
   "id": "54cbced2",
   "metadata": {},
   "outputs": [],
   "source": [
    "mnist = tf.keras.datasets.mnist # hand-written digits 0-9\n",
    "\n",
    "(x_train, y_train), (x_test, y_test) = mnist.load_data() \n",
    "\n",
    "# narrow down the training sample size to 118\n",
    "x = np.concatenate((x_train, x_test))\n",
    "y = np.concatenate((y_train, y_test))\n",
    "np.random.seed(2021)\n",
    "train_size = 0.002\n",
    "index = np.random.rand(len(x)) < train_size\n",
    "x_train, x_test = x[index], x[~index]\n",
    "y_train, y_test = y[index], y[~index]"
   ]
  },
  {
   "cell_type": "code",
   "execution_count": 3,
   "id": "456d1f31",
   "metadata": {},
   "outputs": [
    {
     "name": "stdout",
     "output_type": "stream",
     "text": [
      "Train: 1.000, Test: 0.740\n"
     ]
    }
   ],
   "source": [
    "# normalize \n",
    "x_train = tf.keras.utils.normalize(x_train, axis = 1) \n",
    "x_test = tf.keras.utils.normalize(x_test, axis = 1)\n",
    "\n",
    "\n",
    "model = tf.keras.models.Sequential() # feedforward\n",
    "model.add(tf.keras.layers.Flatten())\n",
    "model.add(tf.keras.layers.Dense(128, activation = tf.nn.relu)) #128 neurons\n",
    "model.add(tf.keras.layers.Dense(128, activation = tf.nn.relu))\n",
    "model.add(tf.keras.layers.Dense(10, activation = tf.nn.softmax)) #output layer; probability\n",
    "\n",
    "model.compile(optimer = 'adam',\n",
    "             loss = 'sparse_categorical_crossentropy',\n",
    "             metrics = ['accuracy'])\n",
    "# fit the model\n",
    "history = model.fit(x_train, y_train, validation_data = (x_test, y_test), epochs = 15, verbose = 0)\n",
    "# evaluate the model\n",
    "_, train_acc = model.evaluate(x_train, y_train, verbose = 0)\n",
    "_, test_acc = model.evaluate(x_test, y_test, verbose = 0)\n",
    "print('Train: %.3f, Test: %.3f' % (train_acc, test_acc))\n"
   ]
  },
  {
   "cell_type": "code",
   "execution_count": 4,
   "id": "728350da",
   "metadata": {},
   "outputs": [
    {
     "data": {
      "text/plain": [
       "<matplotlib.legend.Legend at 0x7fcb0f595410>"
      ]
     },
     "execution_count": 4,
     "metadata": {},
     "output_type": "execute_result"
    },
    {
     "data": {
      "image/png": "[encoded data removed]",
      "text/plain": [
       "<Figure size 432x288 with 1 Axes>"
      ]
     },
     "metadata": {
      "needs_background": "light"
     },
     "output_type": "display_data"
    }
   ],
   "source": [
    "# plot loss during training\n",
    "pyplot.subplot(211)\n",
    "pyplot.title(\"Loss(No Noise)\")\n",
    "pyplot.plot(history.history['loss'], label = 'train')\n",
    "pyplot.plot(history.history['val_loss'], label = 'test')\n",
    "pyplot.legend()"
   ]
  },
  {
   "cell_type": "code",
   "execution_count": 5,
   "id": "caf8ff19",
   "metadata": {},
   "outputs": [
    {
     "data": {
      "text/plain": [
       "<matplotlib.legend.Legend at 0x7fcb0f797110>"
      ]
     },
     "execution_count": 5,
     "metadata": {},
     "output_type": "execute_result"
    },
    {
     "data": {
      "image/png": "[encoded data removed]",
      "text/plain": [
       "<Figure size 432x288 with 1 Axes>"
      ]
     },
     "metadata": {
      "needs_background": "light"
     },
     "output_type": "display_data"
    }
   ],
   "source": [
    "# plot accuracy during training\n",
    "pyplot.subplot(212)\n",
    "pyplot.title(\"Accuracy (No Noise)\")\n",
    "pyplot.plot(history.history['accuracy'], label = 'train')\n",
    "pyplot.plot(history.history['val_accuracy'], label = 'test')\n",
    "pyplot.legend()"
   ]
  },
  {
   "cell_type": "markdown",
   "id": "13967ab8",
   "metadata": {},
   "source": [
    "# Adding Noises to Input Layer"
   ]
  },
  {
   "cell_type": "code",
   "execution_count": 6,
   "id": "593bea96",
   "metadata": {},
   "outputs": [],
   "source": [
    "mnist = tf.keras.datasets.mnist # hand-written digits 0-9\n",
    "\n",
    "(x_train, y_train), (x_test, y_test) = mnist.load_data() \n",
    "\n",
    "# narrow down the training sample size to 118\n",
    "x = np.concatenate((x_train, x_test))\n",
    "y = np.concatenate((y_train, y_test))\n",
    "np.random.seed(2021)\n",
    "train_size = 0.002\n",
    "index = np.random.rand(len(x)) < train_size\n",
    "x_train, x_test = x[index], x[~index]\n",
    "y_train, y_test = y[index], y[~index]"
   ]
  },
  {
   "cell_type": "code",
   "execution_count": 7,
   "id": "acee22da",
   "metadata": {},
   "outputs": [
    {
     "name": "stdout",
     "output_type": "stream",
     "text": [
      "Train: 1.000, Test: 0.768\n"
     ]
    }
   ],
   "source": [
    "# normalize \n",
    "x_train = tf.keras.utils.normalize(x_train, axis = 1) \n",
    "x_test = tf.keras.utils.normalize(x_test, axis = 1)\n",
    "\n",
    "\n",
    "model = tf.keras.models.Sequential() # feedforward\n",
    "model.add(tf.keras.layers.Flatten())\n",
    "\n",
    "# Noise Layer\n",
    "model.add(tf.keras.layers.GaussianNoise(0.1))\n",
    "\n",
    "model.add(tf.keras.layers.Dense(128, activation = tf.nn.relu)) #128 neurons\n",
    "model.add(tf.keras.layers.Dense(128, activation = tf.nn.relu))\n",
    "model.add(tf.keras.layers.Dense(10, activation = tf.nn.softmax)) #output layer; probability\n",
    "\n",
    "model.compile(optimer = 'adam',\n",
    "             loss = 'sparse_categorical_crossentropy',\n",
    "             metrics = ['accuracy'])\n",
    "history = model.fit(x_train, y_train, validation_data = (x_test, y_test), epochs = 15, verbose = 0)\n",
    "_, train_acc = model.evaluate(x_train, y_train, verbose = 0)\n",
    "_, test_acc = model.evaluate(x_test, y_test, verbose = 0)\n",
    "print('Train: %.3f, Test: %.3f' % (train_acc, test_acc))\n"
   ]
  },
  {
   "cell_type": "code",
   "execution_count": 8,
   "id": "42908b8b",
   "metadata": {},
   "outputs": [
    {
     "data": {
      "text/plain": [
       "<matplotlib.legend.Legend at 0x7fcab1711990>"
      ]
     },
     "execution_count": 8,
     "metadata": {},
     "output_type": "execute_result"
    },
    {
     "data": {
      "image/png": "[encoded data removed]",
      "text/plain": [
       "<Figure size 432x288 with 1 Axes>"
      ]
     },
     "metadata": {
      "needs_background": "light"
     },
     "output_type": "display_data"
    }
   ],
   "source": [
    "# plot loss during training\n",
    "pyplot.subplot(211)\n",
    "pyplot.title(\"Loss(Noises-Input)\")\n",
    "pyplot.plot(history.history['loss'], label = 'train')\n",
    "pyplot.plot(history.history['val_loss'], label = 'test')\n",
    "pyplot.legend()"
   ]
  },
  {
   "cell_type": "code",
   "execution_count": 9,
   "id": "88e010c1",
   "metadata": {},
   "outputs": [
    {
     "data": {
      "text/plain": [
       "<matplotlib.legend.Legend at 0x7fcab1765b10>"
      ]
     },
     "execution_count": 9,
     "metadata": {},
     "output_type": "execute_result"
    },
    {
     "data": {
      "image/png": "[encoded data removed]",
      "text/plain": [
       "<Figure size 432x288 with 1 Axes>"
      ]
     },
     "metadata": {
      "needs_background": "light"
     },
     "output_type": "display_data"
    }
   ],
   "source": [
    "# plot accuracy during training\n",
    "pyplot.subplot(212)\n",
    "pyplot.title(\"Accuracy(Noises-Input)\")\n",
    "pyplot.plot(history.history['accuracy'], label = 'train')\n",
    "pyplot.plot(history.history['val_accuracy'], label = 'test')\n",
    "pyplot.legend()"
   ]
  },
  {
   "cell_type": "markdown",
   "id": "fe660734",
   "metadata": {},
   "source": [
    "# Adding Noises to the Activation Function"
   ]
  },
  {
   "cell_type": "code",
   "execution_count": 10,
   "id": "e1f531d8",
   "metadata": {},
   "outputs": [],
   "source": [
    "mnist = tf.keras.datasets.mnist # hand-written digits 0-9\n",
    "\n",
    "(x_train, y_train), (x_test, y_test) = mnist.load_data() \n",
    "\n",
    "# narrow down the training sample size to 118\n",
    "x = np.concatenate((x_train, x_test))\n",
    "y = np.concatenate((y_train, y_test))\n",
    "np.random.seed(2021)\n",
    "train_size = 0.002\n",
    "index = np.random.rand(len(x)) < train_size\n",
    "x_train, x_test = x[index], x[~index]\n",
    "y_train, y_test = y[index], y[~index]"
   ]
  },
  {
   "cell_type": "code",
   "execution_count": 13,
   "id": "84518025",
   "metadata": {},
   "outputs": [
    {
     "name": "stdout",
     "output_type": "stream",
     "text": [
      "Train: 0.983, Test: 0.752\n"
     ]
    }
   ],
   "source": [
    "# normalize \n",
    "x_train = tf.keras.utils.normalize(x_train, axis = 1) \n",
    "x_test = tf.keras.utils.normalize(x_test, axis = 1)\n",
    "\n",
    "\n",
    "model = tf.keras.models.Sequential() # feedforward\n",
    "model.add(tf.keras.layers.Flatten())\n",
    "\n",
    "# Noise Layer\n",
    "model.add(tf.keras.layers.GaussianNoise(0.1))\n",
    "\n",
    "model.add(tf.keras.layers.Dense(128, activation = tf.nn.relu)) #128 neurons\n",
    "model.add(tf.keras.layers.Dense(128, activation = tf.nn.relu))\n",
    "model.add(tf.keras.layers.Dense(10, activation = tf.nn.softmax)) #output layer; probability\n",
    "\n",
    "model.compile(optimer = 'adam',\n",
    "             loss = 'sparse_categorical_crossentropy',\n",
    "             metrics = ['accuracy'])\n",
    "history = model.fit(x_train, y_train, validation_data = (x_test, y_test), epochs = 15, verbose = 0)\n",
    "_, train_acc = model.evaluate(x_train, y_train, verbose = 0)\n",
    "_, test_acc = model.evaluate(x_test, y_test, verbose = 0)\n",
    "print('Train: %.3f, Test: %.3f' % (train_acc, test_acc))"
   ]
  },
  {
   "cell_type": "code",
   "execution_count": 14,
   "id": "9d985c3d",
   "metadata": {},
   "outputs": [
    {
     "data": {
      "text/plain": [
       "<matplotlib.legend.Legend at 0x7fcb00e31650>"
      ]
     },
     "execution_count": 14,
     "metadata": {},
     "output_type": "execute_result"
    },
    {
     "data": {
      "image/png": "[encoded data removed]",
      "text/plain": [
       "<Figure size 432x288 with 1 Axes>"
      ]
     },
     "metadata": {
      "needs_background": "light"
     },
     "output_type": "display_data"
    }
   ],
   "source": [
    "# plot loss during training\n",
    "pyplot.subplot(211)\n",
    "pyplot.title(\"Loss(Noises-Activation)\")\n",
    "pyplot.plot(history.history['loss'], label = 'train')\n",
    "pyplot.plot(history.history['val_loss'], label = 'test')\n",
    "pyplot.legend()"
   ]
  },
  {
   "cell_type": "code",
   "execution_count": 15,
   "id": "570914e6",
   "metadata": {},
   "outputs": [
    {
     "data": {
      "text/plain": [
       "<matplotlib.legend.Legend at 0x7fcaae65aad0>"
      ]
     },
     "execution_count": 15,
     "metadata": {},
     "output_type": "execute_result"
    },
    {
     "data": {
      "image/png": "[encoded data removed]",
      "text/plain": [
       "<Figure size 432x288 with 1 Axes>"
      ]
     },
     "metadata": {
      "needs_background": "light"
     },
     "output_type": "display_data"
    }
   ],
   "source": [
    "# plot accuracy during training\n",
    "pyplot.subplot(212)\n",
    "pyplot.title(\"Accuracy(Noises-Activation)\")\n",
    "pyplot.plot(history.history['accuracy'], label = 'train')\n",
    "pyplot.plot(history.history['val_accuracy'], label = 'test')\n",
    "pyplot.legend()"
   ]
  },
  {
   "cell_type": "code",
   "execution_count": null,
   "id": "c7297f48",
   "metadata": {},
   "outputs": [],
   "source": []
  }
 ],
 "metadata": {
  "kernelspec": {
   "display_name": "Python 3",
   "language": "python",
   "name": "python3"
  },
  "language_info": {
   "codemirror_mode": {
    "name": "ipython",
    "version": 3
   },
   "file_extension": ".py",
   "mimetype": "text/x-python",
   "name": "python",
   "nbconvert_exporter": "python",
   "pygments_lexer": "ipython3",
   "version": "3.7.11"
  }
 },
 "nbformat": 4,
 "nbformat_minor": 5
}
